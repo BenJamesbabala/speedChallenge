{
 "cells": [
  {
   "cell_type": "code",
   "execution_count": 19,
   "metadata": {
    "collapsed": true
   },
   "outputs": [],
   "source": [
    "import cv2\n",
    "import numpy as np\n",
    "import pandas as pd\n",
    "import matplotlib.pyplot as plt\n",
    "import matplotlib.image as mpimg\n",
    "import os\n",
    "import json\n",
    "%matplotlib inline"
   ]
  },
  {
   "cell_type": "code",
   "execution_count": 21,
   "metadata": {
    "collapsed": false
   },
   "outputs": [
    {
     "name": "stdout",
     "output_type": "stream",
     "text": [
      "drive.json  drive.mp4\r\n"
     ]
    }
   ],
   "source": [
    "ls data"
   ]
  },
  {
   "cell_type": "markdown",
   "metadata": {},
   "source": [
    "### Grab Json Data"
   ]
  },
  {
   "cell_type": "code",
   "execution_count": 18,
   "metadata": {
    "collapsed": false
   },
   "outputs": [
    {
     "name": "stdout",
     "output_type": "stream",
     "text": [
      "8616\n"
     ]
    }
   ],
   "source": [
    "with open('./data/drive.json') as json_data:\n",
    "    ground_truth = json.load(json_data)\n",
    "    json_data.close()\n",
    "    print(len(ground_truth))"
   ]
  },
  {
   "cell_type": "code",
   "execution_count": 48,
   "metadata": {
    "collapsed": false
   },
   "outputs": [
    {
     "name": "stdout",
     "output_type": "stream",
     "text": [
      "done!\n"
     ]
    }
   ],
   "source": [
    "with open('./data/driving.csv', 'w') as csvfile:\n",
    "    fieldnames = ['image_path', 'time', 'speed']\n",
    "    writer = csv.DictWriter(csvfile, fieldnames = fieldnames)\n",
    "    writer.writeheader()\n",
    "    \n",
    "\n",
    "    vidcap = cv2.VideoCapture('./data/drive.mp4')\n",
    "\n",
    "    for idx, item in enumerate(ground_truth):\n",
    "        \n",
    "        \n",
    "        \n",
    "        # set video capture to specific time frame\n",
    "        # multiply time given in ground truth by 1000 to convert to milliseconds\n",
    "        vidcap.set(cv2.CAP_PROP_POS_MSEC, item[0] * 1000)\n",
    "        \n",
    "        # read in the image\n",
    "        success, image = vidcap.read()\n",
    "    \n",
    "        if success:\n",
    "            image_path = os.path.join('./data/IMG/', str(item[0]) + '.jpg')\n",
    "            \n",
    "            # save image to IMG folder\n",
    "            cv2.imwrite(image_path, image)\n",
    "            \n",
    "            # write row to driving.csv\n",
    "            writer.writerow({'image_path': image_path, \n",
    "                     'time':item[0],\n",
    "                     'speed':item[1],\n",
    "                    })\n",
    "print('done!')"
   ]
  },
  {
   "cell_type": "code",
   "execution_count": null,
   "metadata": {
    "collapsed": true
   },
   "outputs": [],
   "source": []
  }
 ],
 "metadata": {
  "anaconda-cloud": {},
  "kernelspec": {
   "display_name": "Python [conda env:python3]",
   "language": "python",
   "name": "conda-env-python3-py"
  },
  "language_info": {
   "codemirror_mode": {
    "name": "ipython",
    "version": 3
   },
   "file_extension": ".py",
   "mimetype": "text/x-python",
   "name": "python",
   "nbconvert_exporter": "python",
   "pygments_lexer": "ipython3",
   "version": "3.5.2"
  }
 },
 "nbformat": 4,
 "nbformat_minor": 1
}
