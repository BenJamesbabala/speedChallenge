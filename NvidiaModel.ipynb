{
 "cells": [
  {
   "cell_type": "code",
   "execution_count": 1,
   "metadata": {
    "collapsed": false
   },
   "outputs": [],
   "source": [
    "import numpy as np\n",
    "import tensorflow as tf\n",
    "import cv2\n",
    "import matplotlib.pyplot as plt\n",
    "import matplotlib.image as mpimg\n",
    "import matplotlib.gridspec as gridspec\n",
    "from sklearn.utils import shuffle\n",
    "\n",
    "import pandas as pd\n",
    "from sklearn.model_selection import train_test_split\n",
    "%matplotlib inline"
   ]
  },
  {
   "cell_type": "markdown",
   "metadata": {},
   "source": [
    "### Data Acquisition"
   ]
  },
  {
   "cell_type": "markdown",
   "metadata": {},
   "source": [
    "#### Create DataFrame"
   ]
  },
  {
   "cell_type": "markdown",
   "metadata": {},
   "source": [
    "* Create dataframe with image_path, time(seconds) and speed"
   ]
  },
  {
   "cell_type": "markdown",
   "metadata": {
    "collapsed": true
   },
   "source": [
    "* In the video given, we have ~344 (5min 44s) seconds of video. \n",
    "* Our ground truth labels correspond to a video that is 12m 12s (~732seconds). \n",
    "* We only have a portion of that video. \n",
    "* It appears that our framerate <strong>~ 13 fps </strong>. (4459 frames * (1 second / 13frames) = 344 seconds)"
   ]
  },
  {
   "cell_type": "code",
   "execution_count": 2,
   "metadata": {
    "collapsed": false
   },
   "outputs": [
    {
     "data": {
      "text/plain": [
       "4459"
      ]
     },
     "execution_count": 2,
     "metadata": {},
     "output_type": "execute_result"
    }
   ],
   "source": [
    "df = pd.read_csv('./data/driving.csv')\n",
    "df.head(10)\n",
    "len(df)"
   ]
  },
  {
   "cell_type": "code",
   "execution_count": null,
   "metadata": {
    "collapsed": true
   },
   "outputs": [],
   "source": []
  },
  {
   "cell_type": "code",
   "execution_count": 3,
   "metadata": {
    "collapsed": false
   },
   "outputs": [
    {
     "data": {
      "image/png": "[encoded data removed]",
      "text/plain": [
       "<matplotlib.figure.Figure at 0x7ff0861fff60>"
      ]
     },
     "metadata": {},
     "output_type": "display_data"
    }
   ],
   "source": [
    "times = np.asarray(df['time'], dtype = np.float32)\n",
    "speeds = np.asarray(df['speed'], dtype=np.float32)\n",
    "plt.plot(times, speeds, 'r-')\n",
    "plt.title('Speed vs Time')\n",
    "plt.show()"
   ]
  },
  {
   "cell_type": "code",
   "execution_count": 4,
   "metadata": {
    "collapsed": false
   },
   "outputs": [
    {
     "data": {
      "text/html": [
       "<div>\n",
       "<table border=\"1\" class=\"dataframe\">\n",
       "  <thead>\n",
       "    <tr style=\"text-align: right;\">\n",
       "      <th></th>\n",
       "      <th>image_path</th>\n",
       "      <th>time</th>\n",
       "      <th>speed</th>\n",
       "    </tr>\n",
       "  </thead>\n",
       "  <tbody>\n",
       "    <tr>\n",
       "      <th>4454</th>\n",
       "      <td>./data/IMG/344.3211498260498.jpg</td>\n",
       "      <td>344.321150</td>\n",
       "      <td>27.928958</td>\n",
       "    </tr>\n",
       "    <tr>\n",
       "      <th>4455</th>\n",
       "      <td>./data/IMG/344.37305998802185.jpg</td>\n",
       "      <td>344.373060</td>\n",
       "      <td>27.938640</td>\n",
       "    </tr>\n",
       "    <tr>\n",
       "      <th>4456</th>\n",
       "      <td>./data/IMG/344.5106108188629.jpg</td>\n",
       "      <td>344.510611</td>\n",
       "      <td>27.932405</td>\n",
       "    </tr>\n",
       "    <tr>\n",
       "      <th>4457</th>\n",
       "      <td>./data/IMG/344.5854048728943.jpg</td>\n",
       "      <td>344.585405</td>\n",
       "      <td>27.927574</td>\n",
       "    </tr>\n",
       "    <tr>\n",
       "      <th>4458</th>\n",
       "      <td>./data/IMG/344.63681387901306.jpg</td>\n",
       "      <td>344.636814</td>\n",
       "      <td>27.847842</td>\n",
       "    </tr>\n",
       "  </tbody>\n",
       "</table>\n",
       "</div>"
      ],
      "text/plain": [
       "                             image_path        time      speed\n",
       "4454   ./data/IMG/344.3211498260498.jpg  344.321150  27.928958\n",
       "4455  ./data/IMG/344.37305998802185.jpg  344.373060  27.938640\n",
       "4456   ./data/IMG/344.5106108188629.jpg  344.510611  27.932405\n",
       "4457   ./data/IMG/344.5854048728943.jpg  344.585405  27.927574\n",
       "4458  ./data/IMG/344.63681387901306.jpg  344.636814  27.847842"
      ]
     },
     "execution_count": 4,
     "metadata": {},
     "output_type": "execute_result"
    }
   ],
   "source": [
    "df.tail(5)"
   ]
  },
  {
   "cell_type": "markdown",
   "metadata": {},
   "source": [
    "## Train Test Split"
   ]
  },
  {
   "cell_type": "code",
   "execution_count": 5,
   "metadata": {
    "collapsed": false,
    "scrolled": true
   },
   "outputs": [
    {
     "data": {
      "text/html": [
       "<div>\n",
       "<table border=\"1\" class=\"dataframe\">\n",
       "  <thead>\n",
       "    <tr style=\"text-align: right;\">\n",
       "      <th></th>\n",
       "      <th>image_path</th>\n",
       "      <th>time</th>\n",
       "      <th>speed</th>\n",
       "    </tr>\n",
       "  </thead>\n",
       "  <tbody>\n",
       "    <tr>\n",
       "      <th>4449</th>\n",
       "      <td>./data/IMG/343.772882938385.jpg</td>\n",
       "      <td>343.772883</td>\n",
       "      <td>28.028809</td>\n",
       "    </tr>\n",
       "    <tr>\n",
       "      <th>4450</th>\n",
       "      <td>./data/IMG/343.88360381126404.jpg</td>\n",
       "      <td>343.883604</td>\n",
       "      <td>28.046888</td>\n",
       "    </tr>\n",
       "    <tr>\n",
       "      <th>4451</th>\n",
       "      <td>./data/IMG/343.9875497817993.jpg</td>\n",
       "      <td>343.987550</td>\n",
       "      <td>27.965789</td>\n",
       "    </tr>\n",
       "    <tr>\n",
       "      <th>4452</th>\n",
       "      <td>./data/IMG/344.0397799015045.jpg</td>\n",
       "      <td>344.039780</td>\n",
       "      <td>28.006446</td>\n",
       "    </tr>\n",
       "    <tr>\n",
       "      <th>4453</th>\n",
       "      <td>./data/IMG/344.1648499965668.jpg</td>\n",
       "      <td>344.164850</td>\n",
       "      <td>27.993581</td>\n",
       "    </tr>\n",
       "    <tr>\n",
       "      <th>4454</th>\n",
       "      <td>./data/IMG/344.3211498260498.jpg</td>\n",
       "      <td>344.321150</td>\n",
       "      <td>27.928958</td>\n",
       "    </tr>\n",
       "    <tr>\n",
       "      <th>4455</th>\n",
       "      <td>./data/IMG/344.37305998802185.jpg</td>\n",
       "      <td>344.373060</td>\n",
       "      <td>27.938640</td>\n",
       "    </tr>\n",
       "    <tr>\n",
       "      <th>4456</th>\n",
       "      <td>./data/IMG/344.5106108188629.jpg</td>\n",
       "      <td>344.510611</td>\n",
       "      <td>27.932405</td>\n",
       "    </tr>\n",
       "    <tr>\n",
       "      <th>4457</th>\n",
       "      <td>./data/IMG/344.5854048728943.jpg</td>\n",
       "      <td>344.585405</td>\n",
       "      <td>27.927574</td>\n",
       "    </tr>\n",
       "    <tr>\n",
       "      <th>4458</th>\n",
       "      <td>./data/IMG/344.63681387901306.jpg</td>\n",
       "      <td>344.636814</td>\n",
       "      <td>27.847842</td>\n",
       "    </tr>\n",
       "  </tbody>\n",
       "</table>\n",
       "</div>"
      ],
      "text/plain": [
       "                             image_path        time      speed\n",
       "4449    ./data/IMG/343.772882938385.jpg  343.772883  28.028809\n",
       "4450  ./data/IMG/343.88360381126404.jpg  343.883604  28.046888\n",
       "4451   ./data/IMG/343.9875497817993.jpg  343.987550  27.965789\n",
       "4452   ./data/IMG/344.0397799015045.jpg  344.039780  28.006446\n",
       "4453   ./data/IMG/344.1648499965668.jpg  344.164850  27.993581\n",
       "4454   ./data/IMG/344.3211498260498.jpg  344.321150  27.928958\n",
       "4455  ./data/IMG/344.37305998802185.jpg  344.373060  27.938640\n",
       "4456   ./data/IMG/344.5106108188629.jpg  344.510611  27.932405\n",
       "4457   ./data/IMG/344.5854048728943.jpg  344.585405  27.927574\n",
       "4458  ./data/IMG/344.63681387901306.jpg  344.636814  27.847842"
      ]
     },
     "execution_count": 5,
     "metadata": {},
     "output_type": "execute_result"
    }
   ],
   "source": [
    "df.tail(10)"
   ]
  },
  {
   "cell_type": "markdown",
   "metadata": {},
   "source": [
    "### Shuffle\n",
    "* This function is a batch shuffler, \n",
    "* There is a 20% chance to add the row to validation data, other wise it will be train data"
   ]
  },
  {
   "cell_type": "code",
   "execution_count": 62,
   "metadata": {
    "collapsed": false
   },
   "outputs": [],
   "source": [
    "def batch_shuffle(dframe):\n",
    "    train_data = pd.DataFrame()\n",
    "    valid_data = pd.DataFrame()\n",
    "    for i in range(len(dframe) - 1):\n",
    "        idx1 = np.random.randint(len(dframe) - 1)\n",
    "        idx2 = idx1 + 1\n",
    "        \n",
    "        row1 = dframe.iloc[[idx1]].reset_index()\n",
    "        row2 = dframe.iloc[[idx2]].reset_index()\n",
    "        \n",
    "        randInt = np.random.randint(9)\n",
    "        if 0 <= randInt <= 1:\n",
    "            valid_frames = [valid_data, row1, row2]\n",
    "            valid_data = pd.concat(valid_frames, axis = 0, join = 'outer', ignore_index=False)\n",
    "        if randInt >= 2:\n",
    "            train_frames = [train_data, row1, row2]\n",
    "            train_data = pd.concat(train_frames, axis = 0, join = 'outer', ignore_index=False)\n",
    "    return train_data, valid_data\n"
   ]
  },
  {
   "cell_type": "code",
   "execution_count": 63,
   "metadata": {
    "collapsed": false
   },
   "outputs": [],
   "source": [
    "train_data, valid_data = batch_shuffle(df)"
   ]
  },
  {
   "cell_type": "code",
   "execution_count": 64,
   "metadata": {
    "collapsed": false
   },
   "outputs": [
    {
     "name": "stdout",
     "output_type": "stream",
     "text": [
      "valid_datA:  2028\n",
      "train_data:  6888\n"
     ]
    }
   ],
   "source": [
    "\n",
    "print('valid_datA: ', len(valid_data))\n",
    "print('train_data: ', len(train_data))"
   ]
  },
  {
   "cell_type": "code",
   "execution_count": 67,
   "metadata": {
    "collapsed": false
   },
   "outputs": [
    {
     "data": {
      "text/html": [
       "<div>\n",
       "<table border=\"1\" class=\"dataframe\">\n",
       "  <thead>\n",
       "    <tr style=\"text-align: right;\">\n",
       "      <th></th>\n",
       "      <th>index</th>\n",
       "      <th>image_path</th>\n",
       "      <th>time</th>\n",
       "      <th>speed</th>\n",
       "    </tr>\n",
       "  </thead>\n",
       "  <tbody>\n",
       "    <tr>\n",
       "      <th>0</th>\n",
       "      <td>1888</td>\n",
       "      <td>./data/IMG/136.63225483894348.jpg</td>\n",
       "      <td>136.632255</td>\n",
       "      <td>0.485672</td>\n",
       "    </tr>\n",
       "    <tr>\n",
       "      <th>0</th>\n",
       "      <td>1889</td>\n",
       "      <td>./data/IMG/136.70256090164185.jpg</td>\n",
       "      <td>136.702561</td>\n",
       "      <td>0.851031</td>\n",
       "    </tr>\n",
       "    <tr>\n",
       "      <th>0</th>\n",
       "      <td>3878</td>\n",
       "      <td>./data/IMG/294.0547068119049.jpg</td>\n",
       "      <td>294.054707</td>\n",
       "      <td>28.717004</td>\n",
       "    </tr>\n",
       "    <tr>\n",
       "      <th>0</th>\n",
       "      <td>3879</td>\n",
       "      <td>./data/IMG/294.1384608745575.jpg</td>\n",
       "      <td>294.138461</td>\n",
       "      <td>28.649154</td>\n",
       "    </tr>\n",
       "    <tr>\n",
       "      <th>0</th>\n",
       "      <td>1840</td>\n",
       "      <td>./data/IMG/133.2536449432373.jpg</td>\n",
       "      <td>133.253645</td>\n",
       "      <td>0.482401</td>\n",
       "    </tr>\n",
       "    <tr>\n",
       "      <th>0</th>\n",
       "      <td>1841</td>\n",
       "      <td>./data/IMG/133.32365083694458.jpg</td>\n",
       "      <td>133.323651</td>\n",
       "      <td>0.494534</td>\n",
       "    </tr>\n",
       "    <tr>\n",
       "      <th>0</th>\n",
       "      <td>1605</td>\n",
       "      <td>./data/IMG/115.14112591743469.jpg</td>\n",
       "      <td>115.141126</td>\n",
       "      <td>2.543357</td>\n",
       "    </tr>\n",
       "    <tr>\n",
       "      <th>0</th>\n",
       "      <td>1606</td>\n",
       "      <td>./data/IMG/115.17281079292297.jpg</td>\n",
       "      <td>115.172811</td>\n",
       "      <td>2.537934</td>\n",
       "    </tr>\n",
       "    <tr>\n",
       "      <th>0</th>\n",
       "      <td>4237</td>\n",
       "      <td>./data/IMG/325.7167298793793.jpg</td>\n",
       "      <td>325.716730</td>\n",
       "      <td>29.882415</td>\n",
       "    </tr>\n",
       "    <tr>\n",
       "      <th>0</th>\n",
       "      <td>4238</td>\n",
       "      <td>./data/IMG/325.81225180625916.jpg</td>\n",
       "      <td>325.812252</td>\n",
       "      <td>29.884736</td>\n",
       "    </tr>\n",
       "    <tr>\n",
       "      <th>0</th>\n",
       "      <td>4180</td>\n",
       "      <td>./data/IMG/320.4876039028168.jpg</td>\n",
       "      <td>320.487604</td>\n",
       "      <td>27.501615</td>\n",
       "    </tr>\n",
       "    <tr>\n",
       "      <th>0</th>\n",
       "      <td>4181</td>\n",
       "      <td>./data/IMG/320.5718398094177.jpg</td>\n",
       "      <td>320.571840</td>\n",
       "      <td>27.903420</td>\n",
       "    </tr>\n",
       "    <tr>\n",
       "      <th>0</th>\n",
       "      <td>27</td>\n",
       "      <td>./data/IMG/1.7959239482879639.jpg</td>\n",
       "      <td>1.795924</td>\n",
       "      <td>1.750869</td>\n",
       "    </tr>\n",
       "    <tr>\n",
       "      <th>0</th>\n",
       "      <td>28</td>\n",
       "      <td>./data/IMG/1.8605828285217285.jpg</td>\n",
       "      <td>1.860583</td>\n",
       "      <td>1.731945</td>\n",
       "    </tr>\n",
       "    <tr>\n",
       "      <th>0</th>\n",
       "      <td>1971</td>\n",
       "      <td>./data/IMG/142.91999077796936.jpg</td>\n",
       "      <td>142.919991</td>\n",
       "      <td>0.000000</td>\n",
       "    </tr>\n",
       "    <tr>\n",
       "      <th>0</th>\n",
       "      <td>1972</td>\n",
       "      <td>./data/IMG/143.05057191848755.jpg</td>\n",
       "      <td>143.050572</td>\n",
       "      <td>0.000000</td>\n",
       "    </tr>\n",
       "    <tr>\n",
       "      <th>0</th>\n",
       "      <td>2540</td>\n",
       "      <td>./data/IMG/185.69072890281677.jpg</td>\n",
       "      <td>185.690729</td>\n",
       "      <td>1.528192</td>\n",
       "    </tr>\n",
       "    <tr>\n",
       "      <th>0</th>\n",
       "      <td>2541</td>\n",
       "      <td>./data/IMG/185.75479888916016.jpg</td>\n",
       "      <td>185.754799</td>\n",
       "      <td>1.495102</td>\n",
       "    </tr>\n",
       "    <tr>\n",
       "      <th>0</th>\n",
       "      <td>3262</td>\n",
       "      <td>./data/IMG/240.3988378047943.jpg</td>\n",
       "      <td>240.398838</td>\n",
       "      <td>20.658857</td>\n",
       "    </tr>\n",
       "    <tr>\n",
       "      <th>0</th>\n",
       "      <td>3263</td>\n",
       "      <td>./data/IMG/240.4736349582672.jpg</td>\n",
       "      <td>240.473635</td>\n",
       "      <td>20.646744</td>\n",
       "    </tr>\n",
       "    <tr>\n",
       "      <th>0</th>\n",
       "      <td>2710</td>\n",
       "      <td>./data/IMG/198.54211378097534.jpg</td>\n",
       "      <td>198.542114</td>\n",
       "      <td>5.395220</td>\n",
       "    </tr>\n",
       "    <tr>\n",
       "      <th>0</th>\n",
       "      <td>2711</td>\n",
       "      <td>./data/IMG/198.61420679092407.jpg</td>\n",
       "      <td>198.614207</td>\n",
       "      <td>5.462340</td>\n",
       "    </tr>\n",
       "    <tr>\n",
       "      <th>0</th>\n",
       "      <td>59</td>\n",
       "      <td>./data/IMG/4.024545907974243.jpg</td>\n",
       "      <td>4.024546</td>\n",
       "      <td>0.000000</td>\n",
       "    </tr>\n",
       "    <tr>\n",
       "      <th>0</th>\n",
       "      <td>60</td>\n",
       "      <td>./data/IMG/4.144621849060059.jpg</td>\n",
       "      <td>4.144622</td>\n",
       "      <td>0.000000</td>\n",
       "    </tr>\n",
       "    <tr>\n",
       "      <th>0</th>\n",
       "      <td>979</td>\n",
       "      <td>./data/IMG/70.67982387542725.jpg</td>\n",
       "      <td>70.679824</td>\n",
       "      <td>7.507823</td>\n",
       "    </tr>\n",
       "    <tr>\n",
       "      <th>0</th>\n",
       "      <td>980</td>\n",
       "      <td>./data/IMG/70.75088095664978.jpg</td>\n",
       "      <td>70.750881</td>\n",
       "      <td>7.576123</td>\n",
       "    </tr>\n",
       "    <tr>\n",
       "      <th>0</th>\n",
       "      <td>3153</td>\n",
       "      <td>./data/IMG/231.69977688789368.jpg</td>\n",
       "      <td>231.699777</td>\n",
       "      <td>22.073276</td>\n",
       "    </tr>\n",
       "    <tr>\n",
       "      <th>0</th>\n",
       "      <td>3154</td>\n",
       "      <td>./data/IMG/231.77098393440247.jpg</td>\n",
       "      <td>231.770984</td>\n",
       "      <td>22.061661</td>\n",
       "    </tr>\n",
       "    <tr>\n",
       "      <th>0</th>\n",
       "      <td>2297</td>\n",
       "      <td>./data/IMG/167.2978458404541.jpg</td>\n",
       "      <td>167.297846</td>\n",
       "      <td>1.663602</td>\n",
       "    </tr>\n",
       "    <tr>\n",
       "      <th>0</th>\n",
       "      <td>2298</td>\n",
       "      <td>./data/IMG/167.41698598861694.jpg</td>\n",
       "      <td>167.416986</td>\n",
       "      <td>1.620723</td>\n",
       "    </tr>\n",
       "    <tr>\n",
       "      <th>0</th>\n",
       "      <td>1900</td>\n",
       "      <td>./data/IMG/137.50123381614685.jpg</td>\n",
       "      <td>137.501234</td>\n",
       "      <td>1.820080</td>\n",
       "    </tr>\n",
       "    <tr>\n",
       "      <th>0</th>\n",
       "      <td>1901</td>\n",
       "      <td>./data/IMG/137.56281685829163.jpg</td>\n",
       "      <td>137.562817</td>\n",
       "      <td>1.808588</td>\n",
       "    </tr>\n",
       "    <tr>\n",
       "      <th>0</th>\n",
       "      <td>2687</td>\n",
       "      <td>./data/IMG/196.8151228427887.jpg</td>\n",
       "      <td>196.815123</td>\n",
       "      <td>3.839688</td>\n",
       "    </tr>\n",
       "    <tr>\n",
       "      <th>0</th>\n",
       "      <td>2688</td>\n",
       "      <td>./data/IMG/196.88510084152222.jpg</td>\n",
       "      <td>196.885101</td>\n",
       "      <td>3.884863</td>\n",
       "    </tr>\n",
       "    <tr>\n",
       "      <th>0</th>\n",
       "      <td>3360</td>\n",
       "      <td>./data/IMG/249.16079187393188.jpg</td>\n",
       "      <td>249.160792</td>\n",
       "      <td>22.190440</td>\n",
       "    </tr>\n",
       "    <tr>\n",
       "      <th>0</th>\n",
       "      <td>3361</td>\n",
       "      <td>./data/IMG/249.20688676834106.jpg</td>\n",
       "      <td>249.206887</td>\n",
       "      <td>22.209000</td>\n",
       "    </tr>\n",
       "    <tr>\n",
       "      <th>0</th>\n",
       "      <td>1354</td>\n",
       "      <td>./data/IMG/97.17880892753601.jpg</td>\n",
       "      <td>97.178809</td>\n",
       "      <td>1.727849</td>\n",
       "    </tr>\n",
       "    <tr>\n",
       "      <th>0</th>\n",
       "      <td>1355</td>\n",
       "      <td>./data/IMG/97.31212496757507.jpg</td>\n",
       "      <td>97.312125</td>\n",
       "      <td>1.745802</td>\n",
       "    </tr>\n",
       "    <tr>\n",
       "      <th>0</th>\n",
       "      <td>436</td>\n",
       "      <td>./data/IMG/31.19516682624817.jpg</td>\n",
       "      <td>31.195167</td>\n",
       "      <td>6.571873</td>\n",
       "    </tr>\n",
       "    <tr>\n",
       "      <th>0</th>\n",
       "      <td>437</td>\n",
       "      <td>./data/IMG/31.252887964248657.jpg</td>\n",
       "      <td>31.252888</td>\n",
       "      <td>6.582802</td>\n",
       "    </tr>\n",
       "    <tr>\n",
       "      <th>0</th>\n",
       "      <td>984</td>\n",
       "      <td>./data/IMG/70.99941492080688.jpg</td>\n",
       "      <td>70.999415</td>\n",
       "      <td>7.662970</td>\n",
       "    </tr>\n",
       "    <tr>\n",
       "      <th>0</th>\n",
       "      <td>985</td>\n",
       "      <td>./data/IMG/71.06214594841003.jpg</td>\n",
       "      <td>71.062146</td>\n",
       "      <td>7.661863</td>\n",
       "    </tr>\n",
       "    <tr>\n",
       "      <th>0</th>\n",
       "      <td>302</td>\n",
       "      <td>./data/IMG/21.466829776763916.jpg</td>\n",
       "      <td>21.466830</td>\n",
       "      <td>3.373436</td>\n",
       "    </tr>\n",
       "    <tr>\n",
       "      <th>0</th>\n",
       "      <td>303</td>\n",
       "      <td>./data/IMG/21.541138887405396.jpg</td>\n",
       "      <td>21.541139</td>\n",
       "      <td>3.365230</td>\n",
       "    </tr>\n",
       "    <tr>\n",
       "      <th>0</th>\n",
       "      <td>1447</td>\n",
       "      <td>./data/IMG/103.64577579498291.jpg</td>\n",
       "      <td>103.645776</td>\n",
       "      <td>7.548945</td>\n",
       "    </tr>\n",
       "    <tr>\n",
       "      <th>0</th>\n",
       "      <td>1448</td>\n",
       "      <td>./data/IMG/103.70340394973755.jpg</td>\n",
       "      <td>103.703404</td>\n",
       "      <td>7.543204</td>\n",
       "    </tr>\n",
       "    <tr>\n",
       "      <th>0</th>\n",
       "      <td>563</td>\n",
       "      <td>./data/IMG/40.05174684524536.jpg</td>\n",
       "      <td>40.051747</td>\n",
       "      <td>3.045699</td>\n",
       "    </tr>\n",
       "    <tr>\n",
       "      <th>0</th>\n",
       "      <td>564</td>\n",
       "      <td>./data/IMG/40.14585781097412.jpg</td>\n",
       "      <td>40.145858</td>\n",
       "      <td>2.851776</td>\n",
       "    </tr>\n",
       "    <tr>\n",
       "      <th>0</th>\n",
       "      <td>3705</td>\n",
       "      <td>./data/IMG/279.1801288127899.jpg</td>\n",
       "      <td>279.180129</td>\n",
       "      <td>29.348846</td>\n",
       "    </tr>\n",
       "    <tr>\n",
       "      <th>0</th>\n",
       "      <td>3706</td>\n",
       "      <td>./data/IMG/279.2173898220062.jpg</td>\n",
       "      <td>279.217390</td>\n",
       "      <td>29.353197</td>\n",
       "    </tr>\n",
       "  </tbody>\n",
       "</table>\n",
       "</div>"
      ],
      "text/plain": [
       "   index                         image_path        time      speed\n",
       "0   1888  ./data/IMG/136.63225483894348.jpg  136.632255   0.485672\n",
       "0   1889  ./data/IMG/136.70256090164185.jpg  136.702561   0.851031\n",
       "0   3878   ./data/IMG/294.0547068119049.jpg  294.054707  28.717004\n",
       "0   3879   ./data/IMG/294.1384608745575.jpg  294.138461  28.649154\n",
       "0   1840   ./data/IMG/133.2536449432373.jpg  133.253645   0.482401\n",
       "0   1841  ./data/IMG/133.32365083694458.jpg  133.323651   0.494534\n",
       "0   1605  ./data/IMG/115.14112591743469.jpg  115.141126   2.543357\n",
       "0   1606  ./data/IMG/115.17281079292297.jpg  115.172811   2.537934\n",
       "0   4237   ./data/IMG/325.7167298793793.jpg  325.716730  29.882415\n",
       "0   4238  ./data/IMG/325.81225180625916.jpg  325.812252  29.884736\n",
       "0   4180   ./data/IMG/320.4876039028168.jpg  320.487604  27.501615\n",
       "0   4181   ./data/IMG/320.5718398094177.jpg  320.571840  27.903420\n",
       "0     27  ./data/IMG/1.7959239482879639.jpg    1.795924   1.750869\n",
       "0     28  ./data/IMG/1.8605828285217285.jpg    1.860583   1.731945\n",
       "0   1971  ./data/IMG/142.91999077796936.jpg  142.919991   0.000000\n",
       "0   1972  ./data/IMG/143.05057191848755.jpg  143.050572   0.000000\n",
       "0   2540  ./data/IMG/185.69072890281677.jpg  185.690729   1.528192\n",
       "0   2541  ./data/IMG/185.75479888916016.jpg  185.754799   1.495102\n",
       "0   3262   ./data/IMG/240.3988378047943.jpg  240.398838  20.658857\n",
       "0   3263   ./data/IMG/240.4736349582672.jpg  240.473635  20.646744\n",
       "0   2710  ./data/IMG/198.54211378097534.jpg  198.542114   5.395220\n",
       "0   2711  ./data/IMG/198.61420679092407.jpg  198.614207   5.462340\n",
       "0     59   ./data/IMG/4.024545907974243.jpg    4.024546   0.000000\n",
       "0     60   ./data/IMG/4.144621849060059.jpg    4.144622   0.000000\n",
       "0    979   ./data/IMG/70.67982387542725.jpg   70.679824   7.507823\n",
       "0    980   ./data/IMG/70.75088095664978.jpg   70.750881   7.576123\n",
       "0   3153  ./data/IMG/231.69977688789368.jpg  231.699777  22.073276\n",
       "0   3154  ./data/IMG/231.77098393440247.jpg  231.770984  22.061661\n",
       "0   2297   ./data/IMG/167.2978458404541.jpg  167.297846   1.663602\n",
       "0   2298  ./data/IMG/167.41698598861694.jpg  167.416986   1.620723\n",
       "0   1900  ./data/IMG/137.50123381614685.jpg  137.501234   1.820080\n",
       "0   1901  ./data/IMG/137.56281685829163.jpg  137.562817   1.808588\n",
       "0   2687   ./data/IMG/196.8151228427887.jpg  196.815123   3.839688\n",
       "0   2688  ./data/IMG/196.88510084152222.jpg  196.885101   3.884863\n",
       "0   3360  ./data/IMG/249.16079187393188.jpg  249.160792  22.190440\n",
       "0   3361  ./data/IMG/249.20688676834106.jpg  249.206887  22.209000\n",
       "0   1354   ./data/IMG/97.17880892753601.jpg   97.178809   1.727849\n",
       "0   1355   ./data/IMG/97.31212496757507.jpg   97.312125   1.745802\n",
       "0    436   ./data/IMG/31.19516682624817.jpg   31.195167   6.571873\n",
       "0    437  ./data/IMG/31.252887964248657.jpg   31.252888   6.582802\n",
       "0    984   ./data/IMG/70.99941492080688.jpg   70.999415   7.662970\n",
       "0    985   ./data/IMG/71.06214594841003.jpg   71.062146   7.661863\n",
       "0    302  ./data/IMG/21.466829776763916.jpg   21.466830   3.373436\n",
       "0    303  ./data/IMG/21.541138887405396.jpg   21.541139   3.365230\n",
       "0   1447  ./data/IMG/103.64577579498291.jpg  103.645776   7.548945\n",
       "0   1448  ./data/IMG/103.70340394973755.jpg  103.703404   7.543204\n",
       "0    563   ./data/IMG/40.05174684524536.jpg   40.051747   3.045699\n",
       "0    564   ./data/IMG/40.14585781097412.jpg   40.145858   2.851776\n",
       "0   3705   ./data/IMG/279.1801288127899.jpg  279.180129  29.348846\n",
       "0   3706   ./data/IMG/279.2173898220062.jpg  279.217390  29.353197"
      ]
     },
     "execution_count": 67,
     "metadata": {},
     "output_type": "execute_result"
    }
   ],
   "source": [
    "train_data.head(50)"
   ]
  },
  {
   "cell_type": "code",
   "execution_count": 6,
   "metadata": {
    "collapsed": true
   },
   "outputs": [],
   "source": [
    "valid_data = df[3541:4459]\n",
    "train_data = df[0:3540]"
   ]
  },
  {
   "cell_type": "code",
   "execution_count": 7,
   "metadata": {
    "collapsed": false
   },
   "outputs": [
    {
     "name": "stdout",
     "output_type": "stream",
     "text": [
      "RangeIndex(start=0, stop=4459, step=1)\n",
      "RangeIndex(start=3541, stop=4459, step=1)\n"
     ]
    }
   ],
   "source": [
    "train_data = df\n",
    "print(train_data.index)\n",
    "print(valid_data.index)"
   ]
  },
  {
   "cell_type": "markdown",
   "metadata": {
    "collapsed": true
   },
   "source": [
    "## Preprocess"
   ]
  },
  {
   "cell_type": "code",
   "execution_count": 8,
   "metadata": {
    "collapsed": true
   },
   "outputs": [],
   "source": [
    "def change_brightness(image, bright_factor):\n",
    "    \"\"\"\n",
    "    Augments the brightness of the image by multiplying the saturation by a uniform random variable\n",
    "    Input: image (RGB)\n",
    "    returns: image with brightness augmentation\n",
    "    \"\"\"\n",
    "    \n",
    "    hsv_image = cv2.cvtColor(image, cv2.COLOR_RGB2HSV)\n",
    "    # perform brightness augmentation only on the second channel\n",
    "    hsv_image[:,:,2] = hsv_image[:,:,2] * bright_factor\n",
    "    \n",
    "    # change back to RGB\n",
    "    image_rgb = cv2.cvtColor(hsv_image, cv2.COLOR_HSV2RGB)\n",
    "    return image_rgb"
   ]
  },
  {
   "cell_type": "markdown",
   "metadata": {},
   "source": [
    "#### Perspective Transform"
   ]
  },
  {
   "cell_type": "code",
   "execution_count": 9,
   "metadata": {
    "collapsed": true
   },
   "outputs": [],
   "source": [
    "def apply_perspective_transform(image):\n",
    "    pass"
   ]
  },
  {
   "cell_type": "code",
   "execution_count": 10,
   "metadata": {
    "collapsed": true
   },
   "outputs": [],
   "source": [
    "def preprocess_image(image):\n",
    "    \"\"\"\n",
    "    preprocesses the image\n",
    "    \n",
    "    input: image (480 (y), 640 (x), 3) RGB\n",
    "    output: image (shape is (256, 256, 3) as RGB)\n",
    "    \n",
    "    This stuff is performed on my validation data and my training data\n",
    "    Process: \n",
    "             1) Cropping out black spots\n",
    "             2) Perspective transform\n",
    "             3) resize to (256, 256, 3) if not done so already from perspective transform\n",
    "    \"\"\"\n",
    "    # Crop out sky (top) (100px) and black right part (-90px)\n",
    "    image_cropped = image[100:440, :-90] # -> (380, 550, 3)\n",
    "    # TODO: Write perspective transform \n",
    "#     perspective = apply_perspective_transform(image_cropped)\n",
    "    \n",
    "    image = cv2.resize(image_cropped, (220, 66), interpolation = cv2.INTER_AREA)\n",
    "    \n",
    "    return image"
   ]
  },
  {
   "cell_type": "code",
   "execution_count": 11,
   "metadata": {
    "collapsed": true
   },
   "outputs": [],
   "source": [
    "def preprocess_image_valid_from_path(image_path, speed):\n",
    "    img = cv2.imread(image_path)\n",
    "    img = cv2.cvtColor(img, cv2.COLOR_BGR2RGB)\n",
    "    img = preprocess_image(img)\n",
    "    return img, speed"
   ]
  },
  {
   "cell_type": "code",
   "execution_count": 12,
   "metadata": {
    "collapsed": true
   },
   "outputs": [],
   "source": [
    "def preprocess_image_from_path(image_path, speed, bright_factor):\n",
    "    img = cv2.imread(image_path)\n",
    "    img = cv2.cvtColor(img, cv2.COLOR_BGR2RGB)\n",
    "\n",
    "    img = change_brightness(img, bright_factor)\n",
    "\n",
    "            \n",
    "    img = preprocess_image(img)\n",
    "    return img, speed"
   ]
  },
  {
   "cell_type": "markdown",
   "metadata": {},
   "source": [
    "### Generators"
   ]
  },
  {
   "cell_type": "code",
   "execution_count": 13,
   "metadata": {
    "collapsed": false
   },
   "outputs": [
    {
     "data": {
      "text/plain": [
       "5.0"
      ]
     },
     "execution_count": 13,
     "metadata": {},
     "output_type": "execute_result"
    }
   ],
   "source": [
    "np.mean([10, 0])"
   ]
  },
  {
   "cell_type": "code",
   "execution_count": 14,
   "metadata": {
    "collapsed": true
   },
   "outputs": [],
   "source": [
    "def generate_training_data(data, batch_size = 32):\n",
    "    image_batch = np.zeros((batch_size, 66, 220, 3)) # nvidia input params\n",
    "    label_batch = np.zeros((batch_size))\n",
    "    while True:\n",
    "        for i in range(batch_size):\n",
    "            idx = np.random.randint(1, len(data) - 1)\n",
    "            \n",
    "            # Generate a random bright factor to apply to both images\n",
    "            bright_factor = 0.2 + np.random.uniform()\n",
    "            \n",
    "            row_now = data.iloc[[idx]].reset_index()\n",
    "            row_prev = data.iloc[[idx - 1]].reset_index()\n",
    "            row_next = data.iloc[[idx + 1]].reset_index()\n",
    "            \n",
    "            # Find the 3 respective times to determine frame order (current -> next)\n",
    "            \n",
    "            time_now = row_now['time'].values[0]\n",
    "            time_prev = row_prev['time'].values[0]\n",
    "            time_next = row_next['time'].values[0]\n",
    "            \n",
    "            if time_now - time_prev > 0 and time_now - time_prev < 0.2:\n",
    "                # in this case row_prev is x1 and row_now is x2\n",
    "                row1 = row_prev\n",
    "                row2 = row_now\n",
    "                \n",
    "            elif time_next - time_now > 0 and time_next - time_now < 0.2:\n",
    "                # in this case row_now is x1 and row_next is x2\n",
    "                row1 = row_now\n",
    "                row2 = row_next\n",
    "            \n",
    "            \n",
    "            x1, y1 = preprocess_image_from_path(row1['image_path'].values[0],\n",
    "                                                row1['speed'].values[0],\n",
    "                                               bright_factor)\n",
    "            \n",
    "            # preprocess another image\n",
    "            x2, y2 = preprocess_image_from_path(row2['image_path'].values[0], \n",
    "                                                row2['speed'].values[0],\n",
    "                                               bright_factor)\n",
    "           \n",
    "            # subtract image features\n",
    "            x = x1 - x2\n",
    "            \n",
    "            # calculate mean speed\n",
    "            y = np.mean([y1, y2])\n",
    "            \n",
    "            image_batch[i] = x\n",
    "            label_batch[i] = y\n",
    "            \n",
    "        # Shuffle the pairs before they get fed into the network\n",
    "        yield shuffle(image_batch, label_batch)"
   ]
  },
  {
   "cell_type": "code",
   "execution_count": 15,
   "metadata": {
    "collapsed": true
   },
   "outputs": [],
   "source": [
    "def generate_validation_data(data):\n",
    "    while True:\n",
    "        for idx in range(len(data) - 1):\n",
    "            row1 = data.iloc[[idx]].reset_index()\n",
    "            row2 = data.iloc[[idx + 1]].reset_index()\n",
    "            \n",
    "            row_now = data.iloc[[idx]].reset_index()\n",
    "            row_prev = data.iloc[[idx - 1]].reset_index()\n",
    "            row_next = data.iloc[[idx + 1]].reset_index()\n",
    "            \n",
    "            # Find the 3 respective times to determine frame order (current -> next)\n",
    "            \n",
    "            time_now = row_now['time'].values[0]\n",
    "            time_prev = row_prev['time'].values[0]\n",
    "            time_next = row_next['time'].values[0]\n",
    "            \n",
    "            if time_now - time_prev > 0 and time_now - time_prev < 0.2:\n",
    "                # in this case row_prev is x1 and row_now is x2\n",
    "                row1 = row_prev\n",
    "                row2 = row_now\n",
    "                \n",
    "            elif time_next - time_now > 0 and time_next - time_now < 0.2:\n",
    "                # in this case row_now is x1 and row_next is x2\n",
    "                row1 = row_now\n",
    "                row2 = row_next\n",
    "            \n",
    "            \n",
    "            \n",
    "            \n",
    "            x1, y1 = preprocess_image_valid_from_path(row1['image_path'].values[0], row1['speed'].values[0])\n",
    "            x2, y2 = preprocess_image_valid_from_path(row2['image_path'].values[0], row2['speed'].values[0])\n",
    "            \n",
    "      \n",
    "            \n",
    "            \n",
    "            \n",
    "            img_diff = x1 - x2\n",
    "            \n",
    "            img_diff = img_diff.reshape(1, img_diff.shape[0], img_diff.shape[1], img_diff.shape[2])\n",
    "            \n",
    "            y = np.mean([y1, y2])\n",
    "            \n",
    "            speed = np.array([[y]])\n",
    "            yield img_diff, speed"
   ]
  },
  {
   "cell_type": "markdown",
   "metadata": {
    "collapsed": true
   },
   "source": [
    "### Nvidia Model"
   ]
  },
  {
   "cell_type": "code",
   "execution_count": 16,
   "metadata": {
    "collapsed": false
   },
   "outputs": [
    {
     "name": "stderr",
     "output_type": "stream",
     "text": [
      "Using TensorFlow backend.\n"
     ]
    }
   ],
   "source": [
    "from keras.models import Sequential\n",
    "from keras.layers.convolutional import Convolution2D\n",
    "from keras.layers.pooling import MaxPooling2D\n",
    "from keras.layers.core import Activation, Dropout, Flatten, Dense, Lambda\n",
    "from keras.layers import ELU\n",
    "from keras.optimizers import Adam\n",
    "tf.python.control_flow_ops = tf\n",
    "\n",
    "N_img_height = 66\n",
    "N_img_width = 220\n",
    "N_img_channels = 3\n",
    "def nvidia_model():\n",
    "    inputShape = (N_img_height, N_img_width, N_img_channels)\n",
    "\n",
    "    model = Sequential()\n",
    "    # normalization\n",
    "    model.add(Lambda(lambda x: x/ 127.5 - 1, input_shape = inputShape))\n",
    "\n",
    "    model.add(Convolution2D(24, 5, 5, \n",
    "                            subsample=(2,2), \n",
    "                            border_mode = 'valid',\n",
    "                            init = 'he_normal',\n",
    "                            name = 'conv1'))\n",
    "    \n",
    "    model.add(ELU())    \n",
    "    model.add(Convolution2D(36, 5, 5, \n",
    "                            subsample=(2,2), \n",
    "                            border_mode = 'valid',\n",
    "                            init = 'he_normal',\n",
    "                            name = 'conv2'))\n",
    "    \n",
    "    model.add(ELU())    \n",
    "    model.add(Convolution2D(48, 5, 5, \n",
    "                            subsample=(2,2), \n",
    "                            border_mode = 'valid',\n",
    "                            init = 'he_normal',\n",
    "                            name = 'conv3'))\n",
    "    model.add(ELU())\n",
    "    model.add(Dropout(0.5))\n",
    "    model.add(Convolution2D(64, 3, 3, \n",
    "                            subsample = (1,1), \n",
    "                            border_mode = 'valid',\n",
    "                            init = 'he_normal', #gaussian init\n",
    "                            name = 'conv4'))\n",
    "    \n",
    "    model.add(ELU())              \n",
    "    model.add(Convolution2D(64, 3, 3, \n",
    "                            subsample= (1,1), \n",
    "                            border_mode = 'valid',\n",
    "                            init = 'he_normal',\n",
    "                            name = 'conv5'))\n",
    "              \n",
    "              \n",
    "    model.add(Flatten(name = 'flatten'))\n",
    "    model.add(ELU())\n",
    "    model.add(Dense(100, init = 'he_normal', name = 'fc1'))\n",
    "    model.add(ELU())\n",
    "    model.add(Dense(50, init = 'he_normal', name = 'fc2'))\n",
    "    model.add(ELU())\n",
    "    model.add(Dense(10, init = 'he_normal', name = 'fc3'))\n",
    "    model.add(ELU())\n",
    "    \n",
    "    # do not put activation at the end because we want to exact output, not a class identifier\n",
    "    model.add(Dense(1, name = 'output', init = 'he_normal'))\n",
    "    \n",
    "    adam = Adam(lr=1e-4, beta_1=0.9, beta_2=0.999, epsilon=1e-08, decay=0.0)\n",
    "    model.compile(optimizer = adam, loss = 'mse')\n",
    "\n",
    "    return model"
   ]
  },
  {
   "cell_type": "code",
   "execution_count": 17,
   "metadata": {
    "collapsed": false
   },
   "outputs": [
    {
     "name": "stdout",
     "output_type": "stream",
     "text": [
      "val_size:  918\n"
     ]
    }
   ],
   "source": [
    "val_size = len(valid_data.index)\n",
    "valid_generator = generate_validation_data(valid_data)\n",
    "BATCH = 16\n",
    "print('val_size: ', val_size)"
   ]
  },
  {
   "cell_type": "code",
   "execution_count": 18,
   "metadata": {
    "collapsed": false
   },
   "outputs": [
    {
     "name": "stdout",
     "output_type": "stream",
     "text": [
      "Epoch 1/6\n",
      "20480/20480 [==============================] - 535s - loss: 120.4026 - val_loss: 318.1618\n",
      "Epoch 2/6\n",
      "20480/20480 [==============================] - 546s - loss: 115.6413 - val_loss: 335.4428\n",
      "Epoch 3/6\n",
      "20480/20480 [==============================] - 541s - loss: 96.3198 - val_loss: 181.1846\n",
      "Epoch 4/6\n",
      "20480/20480 [==============================] - 503s - loss: 72.9403 - val_loss: 181.0720\n",
      "Epoch 5/6\n",
      "20480/20480 [==============================] - 548s - loss: 62.6308 - val_loss: 164.9692\n",
      "Epoch 6/6\n",
      "20480/20480 [==============================] - 504s - loss: 55.3001 - val_loss: 188.8388\n",
      "<keras.callbacks.History object at 0x7ff056ccb9b0>\n",
      "Epoch 1/6\n",
      "20480/20480 [==============================] - 514s - loss: 48.1537 - val_loss: 135.8052\n",
      "Epoch 2/6\n",
      "20480/20480 [==============================] - 552s - loss: 42.3265 - val_loss: 106.4973\n",
      "Epoch 3/6\n",
      "20480/20480 [==============================] - 551s - loss: 38.1176 - val_loss: 108.6998\n",
      "Epoch 4/6\n",
      "20480/20480 [==============================] - 569s - loss: 34.7830 - val_loss: 112.1319\n",
      "Epoch 5/6\n",
      "20480/20480 [==============================] - 573s - loss: 31.4590 - val_loss: 125.5192\n",
      "Epoch 6/6\n",
      "20480/20480 [==============================] - 590s - loss: 29.6119 - val_loss: 76.2052\n",
      "<keras.callbacks.History object at 0x7ff054402f98>\n",
      "Epoch 1/6\n",
      "20480/20480 [==============================] - 557s - loss: 25.6285 - val_loss: 70.5092\n",
      "Epoch 2/6\n",
      "20480/20480 [==============================] - 579s - loss: 23.6776 - val_loss: 83.5710\n",
      "Epoch 3/6\n",
      "20480/20480 [==============================] - 639s - loss: 22.9739 - val_loss: 86.4877\n",
      "Epoch 4/6\n",
      "20480/20480 [==============================] - 590s - loss: 20.5327 - val_loss: 66.4615\n",
      "Epoch 5/6\n",
      "20480/20480 [==============================] - 560s - loss: 19.8879 - val_loss: 67.3957\n",
      "Epoch 6/6\n",
      "20480/20480 [==============================] - 566s - loss: 18.6550 - val_loss: 72.6425\n",
      "<keras.callbacks.History object at 0x7ff056088320>\n",
      "Epoch 1/6\n",
      "20480/20480 [==============================] - 571s - loss: 16.8582 - val_loss: 78.8074\n",
      "Epoch 2/6\n",
      "20480/20480 [==============================] - 574s - loss: 15.6618 - val_loss: 79.5828\n",
      "Epoch 3/6\n",
      "20480/20480 [==============================] - 569s - loss: 15.1299 - val_loss: 59.8837\n",
      "Epoch 4/6\n",
      "20480/20480 [==============================] - 614s - loss: 14.3196 - val_loss: 84.1421\n",
      "Epoch 5/6\n",
      "20480/20480 [==============================] - 603s - loss: 13.6174 - val_loss: 45.0332\n",
      "Epoch 6/6\n",
      "20480/20480 [==============================] - 617s - loss: 12.6929 - val_loss: 57.9943\n",
      "<keras.callbacks.History object at 0x7ff0560e7fd0>\n",
      "Epoch 1/6\n",
      "20480/20480 [==============================] - 635s - loss: 11.9465 - val_loss: 74.0148\n",
      "Epoch 2/6\n",
      "20480/20480 [==============================] - 641s - loss: 11.9687 - val_loss: 51.0733\n",
      "Epoch 3/6\n",
      "20480/20480 [==============================] - 543s - loss: 11.0531 - val_loss: 45.9639\n",
      "Epoch 4/6\n",
      "20480/20480 [==============================] - 506s - loss: 10.5440 - val_loss: 48.2249\n",
      "Epoch 5/6\n",
      "20480/20480 [==============================] - 534s - loss: 10.0210 - val_loss: 35.9671\n",
      "Epoch 6/6\n",
      "20480/20480 [==============================] - 507s - loss: 9.7184 - val_loss: 37.4178\n",
      "<keras.callbacks.History object at 0x7ff056131eb8>\n",
      "Epoch 1/6\n",
      "20480/20480 [==============================] - 525s - loss: 9.1059 - val_loss: 42.2590\n",
      "Epoch 2/6\n",
      "20480/20480 [==============================] - 502s - loss: 8.8209 - val_loss: 35.7309\n",
      "Epoch 3/6\n",
      "20480/20480 [==============================] - 503s - loss: 8.4454 - val_loss: 39.5607\n",
      "Epoch 4/6\n",
      "20480/20480 [==============================] - 502s - loss: 7.9773 - val_loss: 41.2182\n",
      "Epoch 5/6\n",
      "20480/20480 [==============================] - 502s - loss: 7.4685 - val_loss: 47.2111\n",
      "Epoch 6/6\n",
      "20480/20480 [==============================] - 502s - loss: 7.4947 - val_loss: 48.8656\n",
      "<keras.callbacks.History object at 0x7ff0569fcb00>\n"
     ]
    }
   ],
   "source": [
    "model = nvidia_model()\n",
    "train_size = len(train_data.index)\n",
    "for i in range(5):\n",
    "    train_generator = generate_training_data(train_data, BATCH)\n",
    "    history = model.fit_generator(\n",
    "            train_generator, \n",
    "            samples_per_epoch = 20480, # try putting the whole thing in here in the future\n",
    "            nb_epoch = 6,\n",
    "            validation_data = valid_generator,\n",
    "            nb_val_samples = val_size)\n",
    "    print(history)\n",
    "    \n",
    "    model.save_weights('model-weights-F3.h5')\n",
    "    model.save('model-F3.h5')"
   ]
  },
  {
   "cell_type": "code",
   "execution_count": 19,
   "metadata": {
    "collapsed": false
   },
   "outputs": [
    {
     "name": "stdout",
     "output_type": "stream",
     "text": [
      "dict_keys(['val_loss', 'loss'])\n"
     ]
    },
    {
     "data": {
      "image/png": "[encoded data removed]",
      "text/plain": [
       "<matplotlib.figure.Figure at 0x7ff0543c2198>"
      ]
     },
     "metadata": {},
     "output_type": "display_data"
    }
   ],
   "source": [
    "print(history.history.keys())\n",
    "\n",
    "### plot the training and validation loss for each epoch\n",
    "plt.plot(history.history['loss'])\n",
    "plt.plot(history.history['val_loss'])\n",
    "plt.title('model mean squared error loss')\n",
    "plt.ylabel('mean squared error loss')\n",
    "plt.xlabel('epoch')\n",
    "plt.legend(['training set', 'validation set'], loc='upper right')\n",
    "plt.show()"
   ]
  },
  {
   "cell_type": "code",
   "execution_count": null,
   "metadata": {
    "collapsed": false
   },
   "outputs": [],
   "source": [
    "# random selection\n",
    "data = train_data\n",
    "random_images = []\n",
    "for i in range(20):\n",
    "    idx = np.random.randint(len(data))\n",
    "    row = data.iloc[[idx]].reset_index()\n",
    "    x, y = preprocess_image_from_path(row['image_path'].values[0], row['speed'].values[0])\n",
    "    random_images.append((x, y))\n",
    "    \n",
    "plt.figure(figsize=(16, 10))\n",
    "gs1 = gridspec.GridSpec(4, 5)\n",
    "gs1.update(wspace = 0.01, hspace = 0.01)\n",
    "for idx, image in enumerate(random_images):\n",
    "    angle = 'ang: ' + str(image[1]) \n",
    "    ax1 = plt.subplot(gs1[idx])\n",
    "    ax1.axis('off')\n",
    "    plt.title(angle)\n",
    "    plt.imshow(image[0])\n",
    "plt.show()"
   ]
  },
  {
   "cell_type": "markdown",
   "metadata": {},
   "source": [
    "### IDEAS: \n",
    "* Run forwards (img1 - img2) mean(speed)\n",
    "* Run backwards (img2 - img1) mean(speed)\n",
    "* Compute speed differential then apply prediction as: current_speed += speed_difference\n",
    "* speed_difference = xW + b\n",
    "\n",
    "* Batch shuffler\n",
    "* Apply perspective transform"
   ]
  },
  {
   "cell_type": "markdown",
   "metadata": {},
   "source": [
    "### Batch Shuffler"
   ]
  },
  {
   "cell_type": "code",
   "execution_count": null,
   "metadata": {
    "collapsed": true
   },
   "outputs": [],
   "source": [
    "def batch_shuffle(data):\n",
    "    size = len(data.index)\n",
    "    \n",
    "    new_paths = pd.Series()\n",
    "    paths = pd.Series(data['image_path'])\n",
    "    \n",
    "    new_times = pd.Series()\n",
    "    times = pd.Series(data['time'])\n",
    "    \n",
    "    new_speed = pd.Series()\n",
    "    speeds = pd.Series(['speed'])\n",
    "    \n",
    "    \n",
    "    for i in range(0, size - 1):\n",
    "        α = np.random.randint(0, size - 1)\n",
    "        β = α + 1\n",
    "        \n",
    "        new_path.append"
   ]
  },
  {
   "cell_type": "code",
   "execution_count": null,
   "metadata": {
    "collapsed": true
   },
   "outputs": [],
   "source": [
    "def batch_shuffle(data):\n",
    "    \n",
    "    new_data = pd.DataFrame()\n",
    "    \n",
    "    for _ in range(0, len(data) - 1)\n",
    "        α = np.random.randint(len(data) - 1)\n",
    "        β = α + 1\n",
    "        row1 = data.iloc[[α]]\n",
    "        row2 = data.iloc[[β]]\n",
    "        \n",
    "        new_data.append\n"
   ]
  },
  {
   "cell_type": "code",
   "execution_count": null,
   "metadata": {
    "collapsed": true
   },
   "outputs": [],
   "source": []
  },
  {
   "cell_type": "code",
   "execution_count": null,
   "metadata": {
    "collapsed": true
   },
   "outputs": [],
   "source": []
  },
  {
   "cell_type": "code",
   "execution_count": null,
   "metadata": {
    "collapsed": true
   },
   "outputs": [],
   "source": []
  },
  {
   "cell_type": "code",
   "execution_count": null,
   "metadata": {
    "collapsed": true
   },
   "outputs": [],
   "source": []
  },
  {
   "cell_type": "code",
   "execution_count": null,
   "metadata": {
    "collapsed": true
   },
   "outputs": [],
   "source": []
  }
 ],
 "metadata": {
  "anaconda-cloud": {},
  "kernelspec": {
   "display_name": "Python [conda env:python3]",
   "language": "python",
   "name": "conda-env-python3-py"
  },
  "language_info": {
   "codemirror_mode": {
    "name": "ipython",
    "version": 3
   },
   "file_extension": ".py",
   "mimetype": "text/x-python",
   "name": "python",
   "nbconvert_exporter": "python",
   "pygments_lexer": "ipython3",
   "version": "3.5.2"
  }
 },
 "nbformat": 4,
 "nbformat_minor": 1
}
